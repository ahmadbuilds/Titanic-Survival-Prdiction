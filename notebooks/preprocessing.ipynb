{
 "cells": [
  {
   "cell_type": "code",
   "execution_count": 10,
   "id": "13f0fc19",
   "metadata": {},
   "outputs": [
    {
     "name": "stdout",
     "output_type": "stream",
     "text": [
      "     PassengerId  Pclass                                               Name  \\\n",
      "0              1       3                            Braund, Mr. Owen Harris   \n",
      "1              2       1  Cumings, Mrs. John Bradley (Florence Briggs Th...   \n",
      "2              3       3                             Heikkinen, Miss. Laina   \n",
      "3              4       1       Futrelle, Mrs. Jacques Heath (Lily May Peel)   \n",
      "4              5       3                           Allen, Mr. William Henry   \n",
      "..           ...     ...                                                ...   \n",
      "886          887       2                              Montvila, Rev. Juozas   \n",
      "887          888       1                       Graham, Miss. Margaret Edith   \n",
      "888          889       3           Johnston, Miss. Catherine Helen \"Carrie\"   \n",
      "889          890       1                              Behr, Mr. Karl Howell   \n",
      "890          891       3                                Dooley, Mr. Patrick   \n",
      "\n",
      "        Sex   Age  SibSp  Parch            Ticket     Fare Cabin Embarked  \n",
      "0      male  22.0      1      0         A/5 21171   7.2500   NaN        S  \n",
      "1    female  38.0      1      0          PC 17599  71.2833   C85        C  \n",
      "2    female  26.0      0      0  STON/O2. 3101282   7.9250   NaN        S  \n",
      "3    female  35.0      1      0            113803  53.1000  C123        S  \n",
      "4      male  35.0      0      0            373450   8.0500   NaN        S  \n",
      "..      ...   ...    ...    ...               ...      ...   ...      ...  \n",
      "886    male  27.0      0      0            211536  13.0000   NaN        S  \n",
      "887  female  19.0      0      0            112053  30.0000   B42        S  \n",
      "888  female   NaN      1      2        W./C. 6607  23.4500   NaN        S  \n",
      "889    male  26.0      0      0            111369  30.0000  C148        C  \n",
      "890    male  32.0      0      0            370376   7.7500   NaN        Q  \n",
      "\n",
      "[891 rows x 11 columns]\n"
     ]
    }
   ],
   "source": [
    "import numpy as np\n",
    "import pandas as pd\n",
    "import matplotlib.pyplot as plt\n",
    "\n",
    "data=pd.read_csv(\"../data/raw/train.csv\",delimiter=\",\")\n",
    "\n",
    "y_train=data[\"Survived\"]\n",
    "x_train=data.drop(columns=[\"Survived\"])\n",
    "\n",
    "print(x_train)"
   ]
  },
  {
   "cell_type": "code",
   "execution_count": 11,
   "id": "b1e317e0",
   "metadata": {},
   "outputs": [],
   "source": [
    "#Filling missing values of age and Embarked\n",
    "\n",
    "x_train[\"Age\"]=x_train.groupby([\"Pclass\",\"Sex\"])[\"Age\"].transform(lambda x:x.fillna(x.median()))\n",
    "\n",
    "x_train[\"Embarked\"]=x_train[\"Embarked\"].ffill()\n"
   ]
  },
  {
   "cell_type": "code",
   "execution_count": 12,
   "id": "c1c1de64",
   "metadata": {},
   "outputs": [],
   "source": [
    "#Feature Engineering\n",
    "x_train[\"FamilySize\"]=x_train[\"SibSp\"]+x_train[\"Parch\"]+1\n",
    "\n",
    "x_train[\"isAlone\"]=x_train[\"FamilySize\"]==1\n",
    "\n",
    "#Extracting Titles from names\n",
    "x_train[\"Title\"]=x_train[\"Name\"].str.extract(r\",\\s*([^\\.]+)\\.\")\n",
    "x_train[\"Title\"]=x_train[\"Title\"].replace([\"Mlle\",\"Ms\"],\"Miss\")\n",
    "x_train[\"Title\"]=x_train[\"Title\"].replace([\"Mme\"],\"Mrs\")\n",
    "#Extracting ticket Class or group\n",
    "x_train[\"TicketPrefix\"]=x_train[\"Ticket\"].str.extract(r\"^([A-Za-z./]+)\")\n",
    "x_train[\"TicketPrefix\"]=x_train[\"TicketPrefix\"].fillna(\"Unknown\")\n",
    "\n",
    "#Extracting Cabin Floor\n",
    "x_train[\"CabinLetter\"]=x_train[\"Cabin\"].str[0]\n",
    "x_train[\"CabinLetter\"]=x_train[\"CabinLetter\"].fillna(\"Unknown\")\n",
    "\n",
    "\n",
    "x_train=x_train.drop(columns=[\"SibSp\",\"Parch\",\"Name\",\"Ticket\",\"Cabin\"])\n"
   ]
  },
  {
   "cell_type": "code",
   "execution_count": null,
   "id": "81b28766",
   "metadata": {},
   "outputs": [],
   "source": []
  }
 ],
 "metadata": {
  "kernelspec": {
   "display_name": "Python 3",
   "language": "python",
   "name": "python3"
  },
  "language_info": {
   "codemirror_mode": {
    "name": "ipython",
    "version": 3
   },
   "file_extension": ".py",
   "mimetype": "text/x-python",
   "name": "python",
   "nbconvert_exporter": "python",
   "pygments_lexer": "ipython3",
   "version": "3.11.4"
  }
 },
 "nbformat": 4,
 "nbformat_minor": 5
}
