{
 "cells": [
  {
   "cell_type": "code",
   "execution_count": 6,
   "id": "13f0fc19",
   "metadata": {},
   "outputs": [
    {
     "name": "stdout",
     "output_type": "stream",
     "text": [
      "     PassengerId  Pclass                                               Name  \\\n",
      "0              1       3                            Braund, Mr. Owen Harris   \n",
      "1              2       1  Cumings, Mrs. John Bradley (Florence Briggs Th...   \n",
      "2              3       3                             Heikkinen, Miss. Laina   \n",
      "3              4       1       Futrelle, Mrs. Jacques Heath (Lily May Peel)   \n",
      "4              5       3                           Allen, Mr. William Henry   \n",
      "..           ...     ...                                                ...   \n",
      "886          887       2                              Montvila, Rev. Juozas   \n",
      "887          888       1                       Graham, Miss. Margaret Edith   \n",
      "888          889       3           Johnston, Miss. Catherine Helen \"Carrie\"   \n",
      "889          890       1                              Behr, Mr. Karl Howell   \n",
      "890          891       3                                Dooley, Mr. Patrick   \n",
      "\n",
      "        Sex   Age  SibSp  Parch            Ticket     Fare Cabin Embarked  \n",
      "0      male  22.0      1      0         A/5 21171   7.2500   NaN        S  \n",
      "1    female  38.0      1      0          PC 17599  71.2833   C85        C  \n",
      "2    female  26.0      0      0  STON/O2. 3101282   7.9250   NaN        S  \n",
      "3    female  35.0      1      0            113803  53.1000  C123        S  \n",
      "4      male  35.0      0      0            373450   8.0500   NaN        S  \n",
      "..      ...   ...    ...    ...               ...      ...   ...      ...  \n",
      "886    male  27.0      0      0            211536  13.0000   NaN        S  \n",
      "887  female  19.0      0      0            112053  30.0000   B42        S  \n",
      "888  female   NaN      1      2        W./C. 6607  23.4500   NaN        S  \n",
      "889    male  26.0      0      0            111369  30.0000  C148        C  \n",
      "890    male  32.0      0      0            370376   7.7500   NaN        Q  \n",
      "\n",
      "[891 rows x 11 columns]\n"
     ]
    }
   ],
   "source": [
    "import numpy as np\n",
    "import pandas as pd\n",
    "import matplotlib.pyplot as plt\n",
    "\n",
    "file_train=\"../data/raw/train.csv\"\n",
    "file_test=\"../data/raw/test.csv\"\n",
    "\n",
    "\n",
    "data=pd.read_csv(file_train,delimiter=\",\")\n",
    "\n",
    "y_train=data[\"Survived\"]\n",
    "x_train=data.drop(columns=[\"Survived\"])\n",
    "\n",
    "print(x_train)"
   ]
  },
  {
   "cell_type": "code",
   "execution_count": 7,
   "id": "b1e317e0",
   "metadata": {},
   "outputs": [],
   "source": [
    "#Filling missing values of age and Embarked\n",
    "\n",
    "x_train[\"Age\"]=x_train.groupby([\"Pclass\",\"Sex\"])[\"Age\"].transform(lambda x:x.fillna(x.median()))\n",
    "\n",
    "x_train[\"Embarked\"]=x_train[\"Embarked\"].ffill()\n"
   ]
  },
  {
   "cell_type": "code",
   "execution_count": 8,
   "id": "c1c1de64",
   "metadata": {},
   "outputs": [],
   "source": [
    "#Feature Engineering\n",
    "x_train[\"FamilySize\"]=x_train[\"SibSp\"]+x_train[\"Parch\"]+1\n",
    "\n",
    "x_train[\"isAlone\"]=x_train[\"FamilySize\"]==1\n",
    "\n",
    "#Extracting Titles from names\n",
    "x_train[\"Title\"]=x_train[\"Name\"].str.extract(r\",\\s*([^\\.]+)\\.\")\n",
    "x_train[\"Title\"]=x_train[\"Title\"].replace([\"Mlle\",\"Ms\"],\"Miss\")\n",
    "x_train[\"Title\"]=x_train[\"Title\"].replace([\"Mme\"],\"Mrs\")\n",
    "#Extracting ticket Class or group\n",
    "x_train[\"TicketPrefix\"]=x_train[\"Ticket\"].str.extract(r\"^([A-Za-z./]+)\")\n",
    "x_train[\"TicketPrefix\"]=x_train[\"TicketPrefix\"].fillna(\"Unknown\")\n",
    "\n",
    "#Extracting Cabin Floor\n",
    "x_train[\"CabinLetter\"]=x_train[\"Cabin\"].str[0]\n",
    "x_train[\"CabinLetter\"]=x_train[\"CabinLetter\"].fillna(\"Unknown\")\n",
    "\n",
    "\n",
    "x_train=x_train.drop(columns=[\"SibSp\",\"Parch\",\"Name\",\"Ticket\",\"Cabin\"])\n"
   ]
  },
  {
   "cell_type": "code",
   "execution_count": 9,
   "id": "81b28766",
   "metadata": {},
   "outputs": [
    {
     "name": "stdout",
     "output_type": "stream",
     "text": [
      "     PassengerId   Age     Fare  FamilySize  isAlone  Pclass_1  Pclass_2  \\\n",
      "0              1  22.0   7.2500           2    False     False     False   \n",
      "1              2  38.0  71.2833           2    False      True     False   \n",
      "2              3  26.0   7.9250           1     True     False     False   \n",
      "3              4  35.0  53.1000           2    False      True     False   \n",
      "4              5  35.0   8.0500           1     True     False     False   \n",
      "..           ...   ...      ...         ...      ...       ...       ...   \n",
      "886          887  27.0  13.0000           1     True     False      True   \n",
      "887          888  19.0  30.0000           1     True      True     False   \n",
      "888          889  21.5  23.4500           4    False     False     False   \n",
      "889          890  26.0  30.0000           1     True      True     False   \n",
      "890          891  32.0   7.7500           1     True     False     False   \n",
      "\n",
      "     Pclass_3  Sex_female  Sex_male  ...  TicketPrefix_WE/P  CabinLetter_A  \\\n",
      "0        True       False      True  ...              False          False   \n",
      "1       False        True     False  ...              False          False   \n",
      "2        True        True     False  ...              False          False   \n",
      "3       False        True     False  ...              False          False   \n",
      "4        True       False      True  ...              False          False   \n",
      "..        ...         ...       ...  ...                ...            ...   \n",
      "886     False       False      True  ...              False          False   \n",
      "887     False        True     False  ...              False          False   \n",
      "888      True        True     False  ...              False          False   \n",
      "889     False       False      True  ...              False          False   \n",
      "890      True       False      True  ...              False          False   \n",
      "\n",
      "     CabinLetter_B  CabinLetter_C  CabinLetter_D  CabinLetter_E  \\\n",
      "0            False          False          False          False   \n",
      "1            False           True          False          False   \n",
      "2            False          False          False          False   \n",
      "3            False           True          False          False   \n",
      "4            False          False          False          False   \n",
      "..             ...            ...            ...            ...   \n",
      "886          False          False          False          False   \n",
      "887           True          False          False          False   \n",
      "888          False          False          False          False   \n",
      "889          False           True          False          False   \n",
      "890          False          False          False          False   \n",
      "\n",
      "     CabinLetter_F  CabinLetter_G  CabinLetter_T  CabinLetter_Unknown  \n",
      "0            False          False          False                 True  \n",
      "1            False          False          False                False  \n",
      "2            False          False          False                 True  \n",
      "3            False          False          False                False  \n",
      "4            False          False          False                 True  \n",
      "..             ...            ...            ...                  ...  \n",
      "886          False          False          False                 True  \n",
      "887          False          False          False                False  \n",
      "888          False          False          False                 True  \n",
      "889          False          False          False                False  \n",
      "890          False          False          False                 True  \n",
      "\n",
      "[891 rows x 76 columns]\n"
     ]
    }
   ],
   "source": [
    "#One Hot encoding\n",
    "x_train=pd.get_dummies(x_train,columns=[\"Pclass\",\"Sex\",\"Embarked\",\"Title\",\"TicketPrefix\",\"CabinLetter\"])\n",
    "print(x_train)"
   ]
  },
  {
   "cell_type": "code",
   "execution_count": 12,
   "id": "56e4b3cd",
   "metadata": {},
   "outputs": [],
   "source": [
    "#Storing the Processed Data\n",
    "filePath_train=\"../data/processed/train.csv\"\n",
    "filePath_test=\"../data/processed/test.csv\"\n",
    "\n",
    "filePath_train_output=\"../data/processed/train_output.csv\"\n",
    "\n",
    "y_train.to_csv(filePath_train_output,index=False)\n",
    "x_train.to_csv(filePath_train,index=False)"
   ]
  }
 ],
 "metadata": {
  "kernelspec": {
   "display_name": "Python 3",
   "language": "python",
   "name": "python3"
  },
  "language_info": {
   "codemirror_mode": {
    "name": "ipython",
    "version": 3
   },
   "file_extension": ".py",
   "mimetype": "text/x-python",
   "name": "python",
   "nbconvert_exporter": "python",
   "pygments_lexer": "ipython3",
   "version": "3.11.4"
  }
 },
 "nbformat": 4,
 "nbformat_minor": 5
}
